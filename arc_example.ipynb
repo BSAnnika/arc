{
 "cells": [
  {
   "cell_type": "code",
   "execution_count": null,
   "metadata": {},
   "outputs": [],
   "source": [
    "from arc import Rubidium\n",
    "\n",
    "# Create an atom object\n",
    "Rb = Rubidium()\n",
    "\n",
    "# Calculate energy of a state\n",
    "energy = Rb.getEnergy(5, 0.5, 0.5)\n",
    "print(\"Energy of 5S1/2 state:\", energy, \"Hz\")"
   ]
  },
  {
   "cell_type": "code",
   "execution_count": null,
   "metadata": {},
   "outputs": [],
   "source": [
    "from arc import StarkMapResonances\n",
    "import matplotlib.pyplot as plt\n",
    "\n",
    "sm = StarkMapResonances(Rb, 70, 0, 0.5, 0.5)\n",
    "sm.defineBasis(70,0,0.5,0.5, nMax=75, lMax=2, jMax=1.5)\n",
    "sm.diagonalise(0,2,50)\n",
    "sm.plotLevelDiagram()\n",
    "plt.show()"
   ]
  }
 ],
 "metadata": {
  "kernelspec": {
   "display_name": "Python 3",
   "language": "python",
   "name": "python3"
  },
  "language_info": {
   "name": "python",
   "version": "3.10"
  }
 },
 "nbformat": 4,
 "nbformat_minor": 2
}
